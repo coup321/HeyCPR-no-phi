{
 "cells": [
  {
   "cell_type": "markdown",
   "metadata": {},
   "source": [
    "# Regex Model Development Notebook\n",
    "Goal of this notebook is to figure out a good starter regex to use for a simple model. Will need to see how well a bunch of different individual and combinations of regex patterns work. Primary evaluation metric will be accuracy. Will utilize the balanced cardiac arrest DC summary dataset to facilitate interpretation."
   ]
  },
  {
   "cell_type": "markdown",
   "metadata": {},
   "source": [
    "## Imports"
   ]
  },
  {
   "cell_type": "code",
   "execution_count": 18,
   "metadata": {},
   "outputs": [],
   "source": [
    "import re\n",
    "import pandas as pd\n",
    "import matplotlib.pyplot as plt\n",
    "from pathlib import Path\n",
    "import ipywidgets as widgets\n",
    "import string\n",
    "import nltk\n",
    "import functools\n",
    "from sklearn.metrics import accuracy_score, confusion_matrix, ConfusionMatrixDisplay\n",
    "import itertools"
   ]
  },
  {
   "cell_type": "markdown",
   "metadata": {},
   "source": [
    "### Read DF"
   ]
  },
  {
   "cell_type": "code",
   "execution_count": 19,
   "metadata": {},
   "outputs": [],
   "source": [
    "df = pd.read_csv(Path('../data/test_parse_output.csv'), header=None, names=['dc_summary','code'])"
   ]
  },
  {
   "cell_type": "markdown",
   "metadata": {},
   "source": [
    "### Preprocess text\n",
    "- remove punctuation\n",
    "- remove digits\n",
    "- all lower\n",
    "- keep stopwords\n",
    "- Convert\n",
    "    - CPR to 'cardiopulmonary resuscitation'\n",
    "    - PEA to 'pulseless electrical activity'\n",
    "    - ROSC to 'return of spontaneous circulation'\n",
    "    - ACLS to 'advanced cardiac life support'\n",
    "    - VT to 'ventricular tachycardia'\n",
    "    - VF to 'ventricular fibrillation'\n",
    "    - VT/VF to 'ventricular fibrillation'"
   ]
  },
  {
   "cell_type": "code",
   "execution_count": 20,
   "metadata": {},
   "outputs": [],
   "source": [
    "def remove_digits(text):\n",
    "    return ''.join([c for c in text if not c.isdigit()]).lower()\n",
    "\n",
    "def remove_punctuation(text):\n",
    "    return re.sub('[' + re.escape(string.punctuation) + r'\\\\\\n]', ' ', text)\n",
    "\n",
    "def fix_acronyms(text):\n",
    "    acronyms = {\n",
    "        'cpr'   : 'cardiopulmonary resuscitation',\n",
    "        'pea'   : 'pulseless electrical activity',\n",
    "        'rosc'  : 'return of spontaneous circulation',\n",
    "        'acls'  : 'advanced cardiac life support',\n",
    "        'vf'    : 'ventricular fibrillation',\n",
    "        'vfib'  : 'ventricular fibrillation',\n",
    "        'vt'    : 'ventricular tachycardia',\n",
    "        'vtvf'  : 'ventricular fibrillation',\n",
    "        'vfvt'  : 'ventricular fibrillation'}\n",
    "\n",
    "    text = [acronyms[w] if w in acronyms else w for w in text.split()]\n",
    "    return ' '.join(text)\n",
    "\n",
    "def _compose(*functions):\n",
    "    return functools.reduce(lambda f, g: lambda x: g(f(x)), functions)  \n",
    "\n",
    "composed_fn = _compose(\n",
    "    remove_digits,\n",
    "    remove_punctuation,\n",
    "    fix_acronyms\n",
    ")"
   ]
  },
  {
   "cell_type": "code",
   "execution_count": 21,
   "metadata": {},
   "outputs": [],
   "source": [
    "df['post_dc_summary']= df.dc_summary.apply(composed_fn)\n",
    "    "
   ]
  },
  {
   "cell_type": "markdown",
   "metadata": {},
   "source": [
    "### Regex from Single Keyword"
   ]
  },
  {
   "cell_type": "code",
   "execution_count": 22,
   "metadata": {},
   "outputs": [],
   "source": [
    "pattern = re.compile(r'cardiopulmonary resuscitation')"
   ]
  },
  {
   "cell_type": "code",
   "execution_count": 23,
   "metadata": {},
   "outputs": [],
   "source": [
    "df['preds'] = df.post_dc_summary.str.contains(pattern)"
   ]
  },
  {
   "cell_type": "code",
   "execution_count": 25,
   "metadata": {},
   "outputs": [
    {
     "data": {
      "text/plain": [
       "0.6643414033647927"
      ]
     },
     "execution_count": 25,
     "metadata": {},
     "output_type": "execute_result"
    }
   ],
   "source": [
    "accuracy_score(df.code, df.preds)"
   ]
  },
  {
   "cell_type": "code",
   "execution_count": 26,
   "metadata": {},
   "outputs": [
    {
     "data": {
      "text/plain": [
       "array([[1177,   18],\n",
       "       [ 800,  442]], dtype=int64)"
      ]
     },
     "execution_count": 26,
     "metadata": {},
     "output_type": "execute_result"
    }
   ],
   "source": [
    "confusion_matrix(df.code, df.preds)"
   ]
  },
  {
   "cell_type": "code",
   "execution_count": 27,
   "metadata": {},
   "outputs": [
    {
     "data": {
      "text/plain": [
       "<sklearn.metrics._plot.confusion_matrix.ConfusionMatrixDisplay at 0x29649f53548>"
      ]
     },
     "execution_count": 27,
     "metadata": {},
     "output_type": "execute_result"
    },
    {
     "data": {
      "image/png": "[encoded data removed]",
      "text/plain": [
       "<Figure size 432x288 with 2 Axes>"
      ]
     },
     "metadata": {
      "needs_background": "light"
     },
     "output_type": "display_data"
    }
   ],
   "source": [
    "ConfusionMatrixDisplay(confusion_matrix(df.code, df.preds)).plot()"
   ]
  },
  {
   "cell_type": "markdown",
   "metadata": {},
   "source": [
    "#### Test statistic functions"
   ]
  },
  {
   "cell_type": "code",
   "execution_count": 28,
   "metadata": {},
   "outputs": [],
   "source": [
    "def PPV(cm):\n",
    "    #TP / (TP + FP)\n",
    "    TP = cm[1][1]\n",
    "    FP = cm[0][1]\n",
    "    return TP / (TP + FP)\n",
    "def sens(cm):\n",
    "    #TP / (TP + TN)\n",
    "    TP = cm[1][1]\n",
    "    TN = cm[0][0]\n",
    "    return TP / (TP + TN)\n",
    "def spec(cm):\n",
    "    #TN / (TN + FP)\n",
    "    TN = cm[0][0]\n",
    "    FP = cm[0][1]\n",
    "    return TN / (TN + FP)\n",
    "def accuracy(cm):\n",
    "    #TP + TN / FP + FN\n",
    "    TP = cm[1][1]\n",
    "    TN = cm[0][0]\n",
    "    FP = cm[0][1]\n",
    "    FN = cm[1][0]\n",
    "    return (TP + TN) / (FP + FN + TP + TN)\n"
   ]
  },
  {
   "cell_type": "code",
   "execution_count": 29,
   "metadata": {},
   "outputs": [
    {
     "name": "stdout",
     "output_type": "stream",
     "text": [
      "PPV: 0.9608695652173913\n",
      "sens: 0.2730080296479308\n",
      "spec: 0.9849372384937238\n",
      "accuracy: 0.6643414033647927\n"
     ]
    }
   ],
   "source": [
    "cm = confusion_matrix(df.code, df.preds)\n",
    "print(f'PPV: {PPV(cm)}')\n",
    "print(f'sens: {sens(cm)}')\n",
    "print(f'spec: {spec(cm)}')\n",
    "print(f'accuracy: {accuracy(cm)}')\n"
   ]
  },
  {
   "cell_type": "markdown",
   "metadata": {},
   "source": [
    "### Test with many individual keywords"
   ]
  },
  {
   "cell_type": "code",
   "execution_count": 30,
   "metadata": {},
   "outputs": [],
   "source": [
    "keywords = [\n",
    "    r'cardiopulmonary resuscitation',\n",
    "    r'pulseless electrical activity',\n",
    "    r'return of spontaneous circulation',\n",
    "    r'advanced cardiac life support',\n",
    "    r'ventricular fibrillation',\n",
    "    r'ventricular tachycardia'\n",
    "]"
   ]
  },
  {
   "cell_type": "code",
   "execution_count": 33,
   "metadata": {},
   "outputs": [],
   "source": [
    "def keyword_stats(df, keyword):\n",
    "    #input df must have columns of ['post_dc_summary','code']\n",
    "    #return pd.Series object\n",
    "    #index = [keyword, sens, spec, ppv, accuracy]\n",
    "    pattern = pattern = re.compile(keyword)\n",
    "    df = df[['post_dc_summary','code']].copy() #avoid scope issues\n",
    "    df['preds'] = df.post_dc_summary.str.contains(pattern)\n",
    "    cm = confusion_matrix(df.code, df.preds)\n",
    "    return pd.Series(\n",
    "        data=[keyword, sens(cm), spec(cm), PPV(cm), accuracy(cm)], \n",
    "        index=['keyword','sens','spec','PPV','accuracy'])\n"
   ]
  },
  {
   "cell_type": "code",
   "execution_count": 34,
   "metadata": {},
   "outputs": [
    {
     "data": {
      "text/html": [
       "<div>\n",
       "<style scoped>\n",
       "    .dataframe tbody tr th:only-of-type {\n",
       "        vertical-align: middle;\n",
       "    }\n",
       "\n",
       "    .dataframe tbody tr th {\n",
       "        vertical-align: top;\n",
       "    }\n",
       "\n",
       "    .dataframe thead th {\n",
       "        text-align: right;\n",
       "    }\n",
       "</style>\n",
       "<table border=\"1\" class=\"dataframe\">\n",
       "  <thead>\n",
       "    <tr style=\"text-align: right;\">\n",
       "      <th></th>\n",
       "      <th>keyword</th>\n",
       "      <th>sens</th>\n",
       "      <th>spec</th>\n",
       "      <th>PPV</th>\n",
       "      <th>accuracy</th>\n",
       "    </tr>\n",
       "  </thead>\n",
       "  <tbody>\n",
       "    <tr>\n",
       "      <th>0</th>\n",
       "      <td>cardiopulmonary resuscitation</td>\n",
       "      <td>0.273008</td>\n",
       "      <td>0.984937</td>\n",
       "      <td>0.960870</td>\n",
       "      <td>0.664341</td>\n",
       "    </tr>\n",
       "    <tr>\n",
       "      <th>1</th>\n",
       "      <td>pulseless electrical activity</td>\n",
       "      <td>0.255238</td>\n",
       "      <td>0.981590</td>\n",
       "      <td>0.948113</td>\n",
       "      <td>0.646286</td>\n",
       "    </tr>\n",
       "    <tr>\n",
       "      <th>2</th>\n",
       "      <td>return of spontaneous circulation</td>\n",
       "      <td>0.060726</td>\n",
       "      <td>0.996653</td>\n",
       "      <td>0.950617</td>\n",
       "      <td>0.520312</td>\n",
       "    </tr>\n",
       "    <tr>\n",
       "      <th>3</th>\n",
       "      <td>advanced cardiac life support</td>\n",
       "      <td>0.075486</td>\n",
       "      <td>0.994142</td>\n",
       "      <td>0.932692</td>\n",
       "      <td>0.527288</td>\n",
       "    </tr>\n",
       "    <tr>\n",
       "      <th>4</th>\n",
       "      <td>ventricular fibrillation</td>\n",
       "      <td>0.179219</td>\n",
       "      <td>0.984937</td>\n",
       "      <td>0.934545</td>\n",
       "      <td>0.588428</td>\n",
       "    </tr>\n",
       "    <tr>\n",
       "      <th>5</th>\n",
       "      <td>ventricular tachycardia</td>\n",
       "      <td>0.175872</td>\n",
       "      <td>0.948954</td>\n",
       "      <td>0.798680</td>\n",
       "      <td>0.564629</td>\n",
       "    </tr>\n",
       "  </tbody>\n",
       "</table>\n",
       "</div>"
      ],
      "text/plain": [
       "                             keyword      sens      spec       PPV  accuracy\n",
       "0      cardiopulmonary resuscitation  0.273008  0.984937  0.960870  0.664341\n",
       "1      pulseless electrical activity  0.255238  0.981590  0.948113  0.646286\n",
       "2  return of spontaneous circulation  0.060726  0.996653  0.950617  0.520312\n",
       "3      advanced cardiac life support  0.075486  0.994142  0.932692  0.527288\n",
       "4           ventricular fibrillation  0.179219  0.984937  0.934545  0.588428\n",
       "5            ventricular tachycardia  0.175872  0.948954  0.798680  0.564629"
      ]
     },
     "execution_count": 34,
     "metadata": {},
     "output_type": "execute_result"
    }
   ],
   "source": [
    "pd.DataFrame([keyword_stats(df, k) for k in keywords])\n"
   ]
  },
  {
   "cell_type": "markdown",
   "metadata": {},
   "source": [
    "### Test with combinations"
   ]
  },
  {
   "cell_type": "code",
   "execution_count": 35,
   "metadata": {},
   "outputs": [],
   "source": [
    "keywords = [\n",
    "    r'cardiopulmonary resuscitation',\n",
    "    r'pulseless electrical activity',\n",
    "    r'return of spontaneous circulation',\n",
    "    r'advanced cardiac life support',\n",
    "    r'ventricular fibrillation',\n",
    "    r'ventricular tachycardia'\n",
    "]"
   ]
  },
  {
   "cell_type": "code",
   "execution_count": 36,
   "metadata": {},
   "outputs": [],
   "source": [
    "def make_pattern(multiple_keywords):\n",
    "    p = r''\n",
    "    for s in multiple_keywords:\n",
    "        p = p + s + '|'\n",
    "    return p[:-1]\n",
    "\n",
    "s = []\n",
    "for i in range(1,len(keywords)+1):\n",
    "    for c in itertools.combinations(keywords, i):\n",
    "        s.append(make_pattern(c))\n",
    "\n"
   ]
  },
  {
   "cell_type": "code",
   "execution_count": 37,
   "metadata": {},
   "outputs": [],
   "source": [
    "combined_stats = pd.DataFrame([keyword_stats(df, k) for k in s])"
   ]
  },
  {
   "cell_type": "code",
   "execution_count": 40,
   "metadata": {},
   "outputs": [
    {
     "data": {
      "text/html": [
       "<div>\n",
       "<style scoped>\n",
       "    .dataframe tbody tr th:only-of-type {\n",
       "        vertical-align: middle;\n",
       "    }\n",
       "\n",
       "    .dataframe tbody tr th {\n",
       "        vertical-align: top;\n",
       "    }\n",
       "\n",
       "    .dataframe thead th {\n",
       "        text-align: right;\n",
       "    }\n",
       "</style>\n",
       "<table border=\"1\" class=\"dataframe\">\n",
       "  <thead>\n",
       "    <tr style=\"text-align: right;\">\n",
       "      <th></th>\n",
       "      <th>keyword</th>\n",
       "      <th>sens</th>\n",
       "      <th>spec</th>\n",
       "      <th>PPV</th>\n",
       "      <th>accuracy</th>\n",
       "    </tr>\n",
       "  </thead>\n",
       "  <tbody>\n",
       "    <tr>\n",
       "      <th>0</th>\n",
       "      <td>cardiopulmonary resuscitation</td>\n",
       "      <td>0.273008</td>\n",
       "      <td>0.984937</td>\n",
       "      <td>0.960870</td>\n",
       "      <td>0.664341</td>\n",
       "    </tr>\n",
       "    <tr>\n",
       "      <th>7</th>\n",
       "      <td>cardiopulmonary resuscitation|return of sponta...</td>\n",
       "      <td>0.283973</td>\n",
       "      <td>0.983264</td>\n",
       "      <td>0.958848</td>\n",
       "      <td>0.673369</td>\n",
       "    </tr>\n",
       "    <tr>\n",
       "      <th>25</th>\n",
       "      <td>cardiopulmonary resuscitation|return of sponta...</td>\n",
       "      <td>0.305276</td>\n",
       "      <td>0.980753</td>\n",
       "      <td>0.957249</td>\n",
       "      <td>0.692245</td>\n",
       "    </tr>\n",
       "    <tr>\n",
       "      <th>8</th>\n",
       "      <td>cardiopulmonary resuscitation|advanced cardiac...</td>\n",
       "      <td>0.295673</td>\n",
       "      <td>0.980753</td>\n",
       "      <td>0.955340</td>\n",
       "      <td>0.682807</td>\n",
       "    </tr>\n",
       "    <tr>\n",
       "      <th>15</th>\n",
       "      <td>return of spontaneous circulation|advanced car...</td>\n",
       "      <td>0.123338</td>\n",
       "      <td>0.993305</td>\n",
       "      <td>0.954286</td>\n",
       "      <td>0.555601</td>\n",
       "    </tr>\n",
       "    <tr>\n",
       "      <th>...</th>\n",
       "      <td>...</td>\n",
       "      <td>...</td>\n",
       "      <td>...</td>\n",
       "      <td>...</td>\n",
       "      <td>...</td>\n",
       "    </tr>\n",
       "    <tr>\n",
       "      <th>20</th>\n",
       "      <td>ventricular fibrillation|ventricular tachycardia</td>\n",
       "      <td>0.261639</td>\n",
       "      <td>0.942259</td>\n",
       "      <td>0.852564</td>\n",
       "      <td>0.625769</td>\n",
       "    </tr>\n",
       "    <tr>\n",
       "      <th>38</th>\n",
       "      <td>return of spontaneous circulation|advanced car...</td>\n",
       "      <td>0.247664</td>\n",
       "      <td>0.943096</td>\n",
       "      <td>0.845103</td>\n",
       "      <td>0.614690</td>\n",
       "    </tr>\n",
       "    <tr>\n",
       "      <th>19</th>\n",
       "      <td>advanced cardiac life support|ventricular tach...</td>\n",
       "      <td>0.220456</td>\n",
       "      <td>0.943933</td>\n",
       "      <td>0.826425</td>\n",
       "      <td>0.593763</td>\n",
       "    </tr>\n",
       "    <tr>\n",
       "      <th>17</th>\n",
       "      <td>return of spontaneous circulation|ventricular ...</td>\n",
       "      <td>0.207983</td>\n",
       "      <td>0.946444</td>\n",
       "      <td>0.822715</td>\n",
       "      <td>0.585966</td>\n",
       "    </tr>\n",
       "    <tr>\n",
       "      <th>5</th>\n",
       "      <td>ventricular tachycardia</td>\n",
       "      <td>0.175872</td>\n",
       "      <td>0.948954</td>\n",
       "      <td>0.798680</td>\n",
       "      <td>0.564629</td>\n",
       "    </tr>\n",
       "  </tbody>\n",
       "</table>\n",
       "<p>63 rows × 5 columns</p>\n",
       "</div>"
      ],
      "text/plain": [
       "                                              keyword      sens      spec  \\\n",
       "0                       cardiopulmonary resuscitation  0.273008  0.984937   \n",
       "7   cardiopulmonary resuscitation|return of sponta...  0.283973  0.983264   \n",
       "25  cardiopulmonary resuscitation|return of sponta...  0.305276  0.980753   \n",
       "8   cardiopulmonary resuscitation|advanced cardiac...  0.295673  0.980753   \n",
       "15  return of spontaneous circulation|advanced car...  0.123338  0.993305   \n",
       "..                                                ...       ...       ...   \n",
       "20   ventricular fibrillation|ventricular tachycardia  0.261639  0.942259   \n",
       "38  return of spontaneous circulation|advanced car...  0.247664  0.943096   \n",
       "19  advanced cardiac life support|ventricular tach...  0.220456  0.943933   \n",
       "17  return of spontaneous circulation|ventricular ...  0.207983  0.946444   \n",
       "5                             ventricular tachycardia  0.175872  0.948954   \n",
       "\n",
       "         PPV  accuracy  \n",
       "0   0.960870  0.664341  \n",
       "7   0.958848  0.673369  \n",
       "25  0.957249  0.692245  \n",
       "8   0.955340  0.682807  \n",
       "15  0.954286  0.555601  \n",
       "..       ...       ...  \n",
       "20  0.852564  0.625769  \n",
       "38  0.845103  0.614690  \n",
       "19  0.826425  0.593763  \n",
       "17  0.822715  0.585966  \n",
       "5   0.798680  0.564629  \n",
       "\n",
       "[63 rows x 5 columns]"
      ]
     },
     "execution_count": 40,
     "metadata": {},
     "output_type": "execute_result"
    }
   ],
   "source": [
    "combined_stats.sort_values(by='PPV', ascending=False)"
   ]
  },
  {
   "cell_type": "markdown",
   "metadata": {},
   "source": [
    "### Review False Negatives from all keywords regex pattern"
   ]
  },
  {
   "cell_type": "code",
   "execution_count": 42,
   "metadata": {},
   "outputs": [],
   "source": [
    "pattern = make_pattern(keywords)\n",
    "df['preds'] = df.post_dc_summary.str.contains(pattern)"
   ]
  },
  {
   "cell_type": "code",
   "execution_count": 46,
   "metadata": {},
   "outputs": [
    {
     "name": "stdout",
     "output_type": "stream",
     "text": [
      "Accuracy of the full pattern is: 0.7894952810832991\n"
     ]
    }
   ],
   "source": [
    "cm = confusion_matrix(df.code, df.preds)\n",
    "print(f'Accuracy of the full pattern is: {accuracy(cm)}')"
   ]
  },
  {
   "cell_type": "markdown",
   "metadata": {},
   "source": [
    "#### FN Review notes \n",
    "1) false code indication, pred seems true actually\n",
    "2) same as  1\n",
    "3) same as 1\n",
    "4) 'asystolic arrest'\n",
    "5) 'chest compressions', 'cardiac arrest'\n",
    "6) 'coded' + something is going on with the hospital course that is causing it to end pattern at r'[**Initial' not sure if this is just the end of the hospital course, or if something unwanted is happening here.\n",
    "7) 'Fenard Intensive Care Unit' in hospital course identifies the hospital, need to report this. Also, looks like it captured the past medical history of myocardial infarction. I suppose I could capture that with 'myocardial infarction'\n",
    "8) looks like hosptail course may have been truncated? \n",
    "9) 'chest compressions', 'asystole'\n",
    "10) CPR was reported after the patient was comfort care... I think this will always be a false positive.\n",
    "11) not sure where the cardiac arrest diagnosis came from, patient made CMO and palliatively extubated"
   ]
  },
  {
   "cell_type": "code",
   "execution_count": null,
   "metadata": {},
   "outputs": [],
   "source": []
  }
 ],
 "metadata": {
  "interpreter": {
   "hash": "b3ba2566441a7c06988d0923437866b63cedc61552a5af99d1f4fb67d367b25f"
  },
  "kernelspec": {
   "display_name": "Python 3.7.4 ('base')",
   "language": "python",
   "name": "python3"
  },
  "language_info": {
   "codemirror_mode": {
    "name": "ipython",
    "version": 3
   },
   "file_extension": ".py",
   "mimetype": "text/x-python",
   "name": "python",
   "nbconvert_exporter": "python",
   "pygments_lexer": "ipython3",
   "version": "3.7.4"
  },
  "orig_nbformat": 4
 },
 "nbformat": 4,
 "nbformat_minor": 2
}
